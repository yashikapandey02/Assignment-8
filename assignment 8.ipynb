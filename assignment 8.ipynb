{
 "cells": [
  {
   "cell_type": "code",
   "execution_count": null,
   "id": "173d7fec",
   "metadata": {},
   "outputs": [],
   "source": [
    "1. Is the Python Standard Library included with PyInputPlus?"
   ]
  },
  {
   "cell_type": "code",
   "execution_count": null,
   "id": "30b3246e",
   "metadata": {},
   "outputs": [],
   "source": [
    "Ans: No, it can be installed seperately using Pip"
   ]
  },
  {
   "cell_type": "code",
   "execution_count": null,
   "id": "5f4d9554",
   "metadata": {},
   "outputs": [],
   "source": [
    "2. Why is PyInputPlus commonly imported with import pyinputplus as pypi?"
   ]
  },
  {
   "cell_type": "code",
   "execution_count": null,
   "id": "f5ad2b7a",
   "metadata": {},
   "outputs": [],
   "source": [
    "Ans:It can import the module with import pyinputplus as pyip so that you can enter a shorter name when calling the\n",
    "    module’s functions"
   ]
  },
  {
   "cell_type": "code",
   "execution_count": null,
   "id": "e2866510",
   "metadata": {},
   "outputs": [],
   "source": [
    "3. How do you distinguish between inputInt() and inputFloat()?"
   ]
  },
  {
   "cell_type": "code",
   "execution_count": null,
   "id": "45d1b5d9",
   "metadata": {},
   "outputs": [],
   "source": [
    "Ans:The difference is in the data-type when you use the first one the program expects an integer value as input \n",
    "    but in the latter it expects a float value."
   ]
  },
  {
   "cell_type": "code",
   "execution_count": null,
   "id": "db731a8f",
   "metadata": {},
   "outputs": [],
   "source": [
    "4. Using PyInputPlus, how do you ensure that the user enters a whole number between 0 and 99?\n"
   ]
  },
  {
   "cell_type": "code",
   "execution_count": null,
   "id": "21baddfb",
   "metadata": {},
   "outputs": [],
   "source": [
    "Ans: By using pyip.inputint(min=0, max=99)"
   ]
  },
  {
   "cell_type": "code",
   "execution_count": null,
   "id": "728b0604",
   "metadata": {},
   "outputs": [],
   "source": [
    "5. What is transferred to the keyword arguments allowRegexes and blockRegexes?"
   ]
  },
  {
   "cell_type": "code",
   "execution_count": null,
   "id": "e1401774",
   "metadata": {},
   "outputs": [],
   "source": [
    "Ans: A list of regex strings that are either explicitly allowed or denied\n",
    "\n"
   ]
  },
  {
   "cell_type": "code",
   "execution_count": null,
   "id": "291abc69",
   "metadata": {},
   "outputs": [],
   "source": [
    "6. If a blank input is entered three times, what does inputStr(limit=3) do?"
   ]
  },
  {
   "cell_type": "code",
   "execution_count": null,
   "id": "eafe5bca",
   "metadata": {},
   "outputs": [],
   "source": [
    "Ans: The function will raise RetryLimitException."
   ]
  },
  {
   "cell_type": "code",
   "execution_count": null,
   "id": "985eb0f9",
   "metadata": {},
   "outputs": [],
   "source": [
    "7. If blank input is entered three times, what does inputStr(limit=3, default='hello') do?\n"
   ]
  },
  {
   "cell_type": "code",
   "execution_count": null,
   "id": "afc884f9",
   "metadata": {},
   "outputs": [],
   "source": [
    "Ans: The function returns the value 'hello'"
   ]
  }
 ],
 "metadata": {
  "kernelspec": {
   "display_name": "Python 3 (ipykernel)",
   "language": "python",
   "name": "python3"
  },
  "language_info": {
   "codemirror_mode": {
    "name": "ipython",
    "version": 3
   },
   "file_extension": ".py",
   "mimetype": "text/x-python",
   "name": "python",
   "nbconvert_exporter": "python",
   "pygments_lexer": "ipython3",
   "version": "3.9.7"
  }
 },
 "nbformat": 4,
 "nbformat_minor": 5
}
